{
 "cells": [
  {
   "attachments": {},
   "cell_type": "markdown",
   "metadata": {},
   "source": [
    "## <p style = \"text-align: center\" >WEB SCRAPPING</p>\n",
    "<hr>\n",
    "\n",
    "### What is Web Scrapping? \n",
    "\n",
    "\n",
    "- Web scraping is the process of automatically <span style = \"color:red\">extracting</span> data from websites. \n",
    "\n",
    "- It involves retrieving the HTML or XML source code of a web page and then parsing and extracting relevant information from that code. Web scraping allows you to gather data from multiple web pages and websites, which can be useful for various purposes such as data analysis, research, or building applications.\n",
    "\n",
    "We have a couple of python libraries which are perfect for this kind of task, some of teh examples include:\n",
    "\n",
    "1). **BeautifulSoup** - provides an easy and convenient way to extract data from HTML and XML documents\n",
    "\n",
    "2). **MechanicalSoup** - a library is built on top of BeatifulSoup that makes it easier to perform web scraping tasks that involve form submission and session manangement.\n",
    "\n",
    "3). **Selenium**\n",
    "\n",
    "For my notebook, I am going to use BeautifulSoup, and thus we need a few packages installed first:\n",
    "\n",
    "For pip:\n",
    "- pip install bs4 \n",
    "- pip install requests        \n",
    "\n",
    "For Conda:\n",
    "- conda install bs4\n",
    "- conda install requests\n",
    "          \n"
   ]
  },
  {
   "cell_type": "code",
   "execution_count": 9,
   "metadata": {},
   "outputs": [],
   "source": [
    "import requests\n",
    "from bs4 import BeautifulSoup"
   ]
  },
  {
   "cell_type": "code",
   "execution_count": 10,
   "metadata": {},
   "outputs": [
    {
     "name": "stdout",
     "output_type": "stream",
     "text": [
      "200\n"
     ]
    }
   ],
   "source": [
    "#We use the 'get' function from the 'requests' module\n",
    "#We are accessing the google homepage\n",
    "result = requests.get(\"https://www.google.com/\")\n",
    "\n",
    "#200 will show us that the content that your'e looking for is present and that the response is okay\n",
    "#The page is accessible as illustrated by our output\n",
    "print(result.status_code)"
   ]
  },
  {
   "cell_type": "code",
   "execution_count": 11,
   "metadata": {},
   "outputs": [
    {
     "name": "stdout",
     "output_type": "stream",
     "text": [
      "{'Date': 'Tue, 27 Jun 2023 16:14:07 GMT', 'Expires': '-1', 'Cache-Control': 'private, max-age=0', 'Content-Type': 'text/html; charset=ISO-8859-1', 'Content-Security-Policy-Report-Only': \"object-src 'none';base-uri 'self';script-src 'nonce-JGPcpVglgSGxOvo9wj-ltQ' 'strict-dynamic' 'report-sample' 'unsafe-eval' 'unsafe-inline' https: http:;report-uri https://csp.withgoogle.com/csp/gws/other-hp\", 'P3P': 'CP=\"This is not a P3P policy! See g.co/p3phelp for more info.\"', 'Content-Encoding': 'gzip', 'Server': 'gws', 'X-XSS-Protection': '0', 'X-Frame-Options': 'SAMEORIGIN', 'Set-Cookie': '1P_JAR=2023-06-27-16; expires=Thu, 27-Jul-2023 16:14:07 GMT; path=/; domain=.google.com; Secure, AEC=AUEFqZcfPeRMQa9cpEMBqzfgl4_gsAbYLEnKZKVNLn_W_YljtGeCqUqLbw; expires=Sun, 24-Dec-2023 16:14:07 GMT; path=/; domain=.google.com; Secure; HttpOnly; SameSite=lax, NID=511=Vr0oCG9e927_25lWjJaIouv8s9ZbfIGVMEg6NyR3mZxoFz2Elfl2OwR2LRbiMA-gHq3-gDoIar8r4--TEK_fuBXQJEWoCyY5ScD6_xgIop4ZIrZViy6nAvDhWWXK1szXOWpJEU1mfb9fVH3EhUCehZCbmbtvF4yWZT_F1ff94G4; expires=Wed, 27-Dec-2023 16:14:07 GMT; path=/; domain=.google.com; HttpOnly', 'Alt-Svc': 'h3=\":443\"; ma=2592000,h3-29=\":443\"; ma=2592000', 'Transfer-Encoding': 'chunked'}\n",
      "b'<!doctype html><html itemscope=\"\" itemtype=\"http://schema.org/WebPage\" lang=\"sw-KE\"><head><meta content=\"text/html; charset=UTF-8\" http-equiv=\"Content-Type\"><meta content=\"/images/branding/googleg/1x/googleg_standard_color_128dp.png\" itemprop=\"image\"><title>Google</title><script nonce=\"JGPcpVglgSGxOvo9wj-ltQ\">(function(){var _g={kEI:\\'zwqbZM3YLfTX2roPhsiPoAE\\',kEXPI:\\'0,18168,1341241,6058,207,4804,2316,383,246,5,1129120,1197770,631,223,379867,16111,28687,22430,1362,12319,2815,14765,4998,17075,35735,2709,889,1983,2891,12360,29842,28445,2403,16105,230,20583,4,1528,2304,42127,11442,2216,4437,22586,6651,7596,1,42157,2,38000,1758,5679,1021,31121,4568,6256,23421,1246,5841,19300,14,7470,445,2,2,1,24626,2006,8155,7381,1401,14568,873,19634,8,1921,52238,20199,927,412,18797,14,82,1722,18484,8377,18988,2277,3098,1506,1524,5630,481,4553,5152,1804,10472,2884,7656,1825,10260,1896,275,8787,44,2321,662,342,1292,7948,5893,18,583,545,3147,5128,359,657,4,2418,7914,4501,450,6271,5661,970,301,1361,680,372,1776,178,5202435,7026,116,5993544,2799834,4590,3311,940,2,19729,1,1,346,6849,34,48,23943554,578,4043528,14297,2376,2893,6250,17097,2259,533,3918,1406989,681642,23078622,2607,19,236,292,1277,896,2108,1970,1378,1022,34,802,1546,1079,696,1324,2057,51,2737,98,241,622,522,330,746,144,442,213,1628,527,537,453,480,835,74,1,877,791,311,15,90,164,494,137,264,940,448,102,139,116,957,98,4,634,273,415,46,261,357,79,10,987,329,319,146,625,80,716,59,238,48,677,1213,292,323,797,151,526,2011,1537,525,112,3,174,621,494,47,200,861,11,872,555,735,79,202,458,792,232,508,1207,626,196\\',kBL:\\'Kvcy\\',kOPI:89978449};if (window.google && window.google.stvsc){window.google.kEI = _g.kEI;}else {window.google = _g;}\\n})();(function(){google.sn=\\'webhp\\';google.kHL=\\'sw-KE\\';})();(function(){\\nvar h=this||self;function l(){return void 0!==window.google&&void 0!==window.google.kOPI&&0!==window.google.kOPI?window.google.kOPI:null};var m,n=[];function p(a){for(var b;a&&(!a.getAttribute||!(b=a.getAttribute(\"eid\")));)a=a.parentNode;return b||m}function q(a){for(var b=null;a&&(!a.getAttribute||!(b=a.getAttribute(\"leid\")));)a=a.parentNode;return b}function r(a){/^http:/i.test(a)&&\"https:\"===window.location.protocol&&(google.ml&&google.ml(Error(\"a\"),!1,{src:a,glmm:1}),a=\"\");return a}\\nfunction t(a,b,c,d,k){var e=\"\";-1===b.search(\"&ei=\")&&(e=\"&ei=\"+p(d),-1===b.search(\"&lei=\")&&(d=q(d))&&(e+=\"&lei=\"+d));d=\"\";var g=-1===b.search(\"&cshid=\")&&\"slh\"!==a,f=[];f.push([\"zx\",Date.now().toString()]);h._cshid&&g&&f.push([\"cshid\",h._cshid]);c=c();null!=c&&f.push([\"opi\",c.toString()]);for(c=0;c<f.length;c++){if(0===c||0<c)d+=\"&\";d+=f[c][0]+\"=\"+f[c][1]}return\"/\"+(k||\"gen_204\")+\"?atyp=i&ct=\"+String(a)+\"&cad=\"+(b+e+d)};m=google.kEI;google.getEI=p;google.getLEI=q;google.ml=function(){return null};google.log=function(a,b,c,d,k,e){e=void 0===e?l:e;c||(c=t(a,b,e,d,k));if(c=r(c)){a=new Image;var g=n.length;n[g]=a;a.onerror=a.onload=a.onabort=function(){delete n[g]};a.src=c}};google.logUrl=function(a,b){b=void 0===b?l:b;return t(\"\",a,b)};}).call(this);(function(){google.y={};google.sy=[];google.x=function(a,b){if(a)var c=a.id;else{do c=Math.random();while(google.y[c])}google.y[c]=[a,b];return!1};google.sx=function(a){google.sy.push(a)};google.lm=[];google.plm=function(a){google.lm.push.apply(google.lm,a)};google.lq=[];google.load=function(a,b,c){google.lq.push([[a],b,c])};google.loadAll=function(a,b){google.lq.push([a,b])};google.bx=!1;google.lx=function(){};}).call(this);google.f={};(function(){\\ndocument.documentElement.addEventListener(\"submit\",function(b){var a;if(a=b.target){var c=a.getAttribute(\"data-submitfalse\");a=\"1\"===c||\"q\"===c&&!a.elements.q.value?!0:!1}else a=!1;a&&(b.preventDefault(),b.stopPropagation())},!0);document.documentElement.addEventListener(\"click\",function(b){var a;a:{for(a=b.target;a&&a!==document.documentElement;a=a.parentElement)if(\"A\"===a.tagName){a=\"1\"===a.getAttribute(\"data-nohref\");break a}a=!1}a&&b.preventDefault()},!0);}).call(this);</script><style>#gbar,#guser{font-size:13px;padding-top:1px !important;}#gbar{height:22px}#guser{padding-bottom:7px !important;text-align:right}.gbh,.gbd{border-top:1px solid #c9d7f1;font-size:1px}.gbh{height:0;position:absolute;top:24px;width:100%}@media all{.gb1{height:22px;margin-right:.5em;vertical-align:top}#gbar{float:left}}a.gb1,a.gb4{text-decoration:underline !important}a.gb1,a.gb4{color:#00c !important}.gbi .gb4{color:#dd8e27 !important}.gbf .gb4{color:#900 !important}\\n</style><style>body,td,a,p,.h{font-family:arial,sans-serif}body{margin:0;overflow-y:scroll}#gog{padding:3px 8px 0}td{line-height:.8em}.gac_m td{line-height:17px}form{margin-bottom:20px}.h{color:#1967d2}em{font-weight:bold;font-style:normal}.lst{height:25px;width:496px}.gsfi,.lst{font:18px arial,sans-serif}.gsfs{font:17px arial,sans-serif}.ds{display:inline-box;display:inline-block;margin:3px 0 4px;margin-left:4px}input{font-family:inherit}body{background:#fff;color:#000}a{color:#681da8;text-decoration:none}a:hover,a:active{text-decoration:underline}.fl a{color:#1967d2}a:visited{color:#681da8}.sblc{padding-top:5px}.sblc a{display:block;margin:2px 0;margin-left:13px;font-size:11px}.lsbb{background:#f8f9fa;border:solid 1px;border-color:#dadce0 #70757a #70757a #dadce0;height:30px}.lsbb{display:block}#WqQANb a{display:inline-block;margin:0 12px}.lsb{background:url(/images/nav_logo229.png) 0 -261px repeat-x;color:#000;border:none;cursor:pointer;height:30px;margin:0;outline:0;font:15px arial,sans-serif;vertical-align:top}.lsb:active{background:#dadce0}.lst:focus{outline:none}.Ucigb{width:458px}</style><script nonce=\"JGPcpVglgSGxOvo9wj-ltQ\">(function(){window.google.erd={jsr:1,bv:1819,de:true};\\nvar h=this||self;var k,l=null!=(k=h.mei)?k:1,n,p=null!=(n=h.sdo)?n:!0,q=0,r,t=google.erd,v=t.jsr;google.ml=function(a,b,d,m,e){e=void 0===e?2:e;b&&(r=a&&a.message);if(google.dl)return google.dl(a,e,d),null;if(0>v){window.console&&console.error(a,d);if(-2===v)throw a;b=!1}else b=!a||!a.message||\"Error loading script\"===a.message||q>=l&&!m?!1:!0;if(!b)return null;q++;d=d||{};b=encodeURIComponent;var c=\"/gen_204?atyp=i&ei=\"+b(google.kEI);google.kEXPI&&(c+=\"&jexpid=\"+b(google.kEXPI));c+=\"&srcpg=\"+b(google.sn)+\"&jsr=\"+b(t.jsr)+\"&bver=\"+b(t.bv);var f=a.lineNumber;void 0!==f&&(c+=\"&line=\"+f);var g=\\na.fileName;g&&(0<g.indexOf(\"-extension:/\")&&(e=3),c+=\"&script=\"+b(g),f&&g===window.location.href&&(f=document.documentElement.outerHTML.split(\"\\\\n\")[f],c+=\"&cad=\"+b(f?f.substring(0,300):\"No script found.\")));c+=\"&jsel=\"+e;for(var u in d)c+=\"&\",c+=b(u),c+=\"=\",c+=b(d[u]);c=c+\"&emsg=\"+b(a.name+\": \"+a.message);c=c+\"&jsst=\"+b(a.stack||\"N/A\");12288<=c.length&&(c=c.substr(0,12288));a=c;m||google.log(0,\"\",a);return a};window.onerror=function(a,b,d,m,e){r!==a&&(a=e instanceof Error?e:Error(a),void 0===d||\"lineNumber\"in a||(a.lineNumber=d),void 0===b||\"fileName\"in a||(a.fileName=b),google.ml(a,!1,void 0,!1,\"SyntaxError\"===a.name||\"SyntaxError\"===a.message.substring(0,11)||-1!==a.message.indexOf(\"Script error\")?3:0));r=null;p&&q>=l&&(window.onerror=null)};})();</script></head><body bgcolor=\"#fff\"><script nonce=\"JGPcpVglgSGxOvo9wj-ltQ\">(function(){var src=\\'/images/nav_logo229.png\\';var iesg=false;document.body.onload = function(){window.n && window.n();if (document.images){new Image().src=src;}\\nif (!iesg){document.f&&document.f.q.focus();document.gbqf&&document.gbqf.q.focus();}\\n}\\n})();</script><div id=\"mngb\"><div id=gbar><nobr><b class=gb1>Tafuta</b> <a class=gb1 href=\"https://www.google.com/imghp?hl=sw&tab=wi\">Picha</a> <a class=gb1 href=\"https://maps.google.co.ke/maps?hl=sw&tab=wl\">Ramani</a> <a class=gb1 href=\"https://play.google.com/?hl=sw&tab=w8\">Play</a> <a class=gb1 href=\"https://www.youtube.com/?tab=w1\">YouTube</a> <a class=gb1 href=\"https://news.google.com/?tab=wn\">Habari</a> <a class=gb1 href=\"https://mail.google.com/mail/?tab=wm\">Gmail</a> <a class=gb1 href=\"https://drive.google.com/?tab=wo\">Hifadhi</a> <a class=gb1 style=\"text-decoration:none\" href=\"https://www.google.co.ke/intl/en/about/products?tab=wh\"><u>Mengineyo</u> &raquo;</a></nobr></div><div id=guser width=100%><nobr><span id=gbn class=gbi></span><span id=gbf class=gbf></span><span id=gbe></span><a href=\"http://www.google.co.ke/history/optout?hl=sw\" class=gb4>Historia kwenye Wavuti</a> | <a  href=\"/preferences?hl=sw\" class=gb4>Mipangilio</a> | <a target=_top id=gb_70 href=\"https://accounts.google.com/ServiceLogin?hl=sw&passive=true&continue=https://www.google.com/&ec=GAZAAQ\" class=gb4>Ingia</a></nobr></div><div class=gbh style=left:0></div><div class=gbh style=right:0></div></div><center><br clear=\"all\" id=\"lgpd\"><div id=\"lga\"><img alt=\"Google\" height=\"92\" src=\"/images/branding/googlelogo/1x/googlelogo_white_background_color_272x92dp.png\" style=\"padding:28px 0 14px\" width=\"272\" id=\"hplogo\"><br><br></div><form action=\"/search\" name=\"f\"><table cellpadding=\"0\" cellspacing=\"0\"><tr valign=\"top\"><td width=\"25%\">&nbsp;</td><td align=\"center\" nowrap=\"\"><input name=\"ie\" value=\"ISO-8859-1\" type=\"hidden\"><input value=\"sw-KE\" name=\"hl\" type=\"hidden\"><input name=\"source\" type=\"hidden\" value=\"hp\"><input name=\"biw\" type=\"hidden\"><input name=\"bih\" type=\"hidden\"><div class=\"ds\" style=\"height:32px;margin:4px 0\"><div style=\"position:relative;zoom:1\"><input class=\"lst Ucigb\" style=\"margin:0;padding:5px 8px 0 6px;vertical-align:top;color:#000;padding-right:38px\" autocomplete=\"off\" value=\"\" title=\"Tafuta na Google\" maxlength=\"2048\" name=\"q\" size=\"57\"><img src=\"/textinputassistant/tia.png\" style=\"position:absolute;cursor:pointer;right:5px;top:4px;z-index:300\" data-script-url=\"/textinputassistant/11/sw_tia.js\" id=\"tsuid_1\" alt=\"\" height=\"23\" width=\"27\"><script nonce=\"JGPcpVglgSGxOvo9wj-ltQ\">(function(){var id=\\'tsuid_1\\';document.getElementById(id).onclick = function(){var s = document.createElement(\\'script\\');s.src = this.getAttribute(\\'data-script-url\\');(document.getElementById(\\'xjsc\\')||document.body).appendChild(s);};})();</script></div></div><br style=\"line-height:0\"><span class=\"ds\"><span class=\"lsbb\"><input class=\"lsb\" value=\"Tafuta na Google\" name=\"btnG\" type=\"submit\"></span></span><span class=\"ds\"><span class=\"lsbb\"><input class=\"lsb\" id=\"tsuid_2\" value=\"Najisikia Nina Bahati\" name=\"btnI\" type=\"submit\"><script nonce=\"JGPcpVglgSGxOvo9wj-ltQ\">(function(){var id=\\'tsuid_2\\';document.getElementById(id).onclick = function(){if (this.form.q.value){this.checked = 1;if (this.form.iflsig)this.form.iflsig.disabled = false;}\\nelse top.location=\\'/doodles/\\';};})();</script><input value=\"AOEireoAAAAAZJsY3zByTUb8EZ55GKf6Fsfi5X1KZ70-\" name=\"iflsig\" type=\"hidden\"></span></span></td><td class=\"fl sblc\" align=\"left\" nowrap=\"\" width=\"25%\"><a href=\"/advanced_search?hl=sw-KE&amp;authuser=0\">Utafutaji wa kina</a></td></tr></table><input id=\"gbv\" name=\"gbv\" type=\"hidden\" value=\"1\"><script nonce=\"JGPcpVglgSGxOvo9wj-ltQ\">(function(){var a,b=\"1\";if(document&&document.getElementById)if(\"undefined\"!=typeof XMLHttpRequest)b=\"2\";else if(\"undefined\"!=typeof ActiveXObject){var c,d,e=[\"MSXML2.XMLHTTP.6.0\",\"MSXML2.XMLHTTP.3.0\",\"MSXML2.XMLHTTP\",\"Microsoft.XMLHTTP\"];for(c=0;d=e[c++];)try{new ActiveXObject(d),b=\"2\"}catch(h){}}a=b;if(\"2\"==a&&-1==location.search.indexOf(\"&gbv=2\")){var f=google.gbvu,g=document.getElementById(\"gbv\");g&&(g.value=a);f&&window.setTimeout(function(){location.href=f},0)};}).call(this);</script></form><div id=\"gac_scont\"></div><div style=\"font-size:83%;min-height:3.5em\"><br><div id=\"gws-output-pages-elements-homepage_additional_languages__als\"><style>#gws-output-pages-elements-homepage_additional_languages__als{font-size:small;margin-bottom:24px}#SIvCob{color:#3c4043;display:inline-block;line-height:28px;}#SIvCob a{padding:0 3px;}.H6sW5{display:inline-block;margin:0 2px;white-space:nowrap}.z4hgWe{display:inline-block;margin:0 2px}</style><div id=\"SIvCob\">Google inapatikana katika:  <a href=\"https://www.google.com/setprefs?sig=0_mXiQCwjoJMt2zh9ldMtIKC-zj1M%3D&amp;hl=en&amp;source=homepage&amp;sa=X&amp;ved=0ahUKEwiN_OGN7OP_AhX0q1YBHQbkAxQQ2ZgBCAU\">English</a>  </div></div></div><span id=\"footer\"><div style=\"font-size:10pt\"><div style=\"margin:19px auto;text-align:center\" id=\"WqQANb\"><a href=\"/intl/sw/ads/\">Matangazo </a><a href=\"/intl/sw/about.html\">Kila Kitu Kuhusu Google</a><a href=\"https://www.google.com/setprefs?sig=0_mXiQCwjoJMt2zh9ldMtIKC-zj1M%3D&amp;hl=en\" id=\"fehl\">Google.com in English</a></div></div><p style=\"font-size:8pt;color:#70757a\">&copy; 2023</p></span></center><script nonce=\"JGPcpVglgSGxOvo9wj-ltQ\">(function(){window.google.cdo={height:757,width:1440};(function(){var a=window.innerWidth,b=window.innerHeight;if(!a||!b){var c=window.document,d=\"CSS1Compat\"==c.compatMode?c.documentElement:c.body;a=d.clientWidth;b=d.clientHeight}\\nif(a&&b&&(a!=google.cdo.width||b!=google.cdo.height)){var e=google,f=e.log,g=\"/client_204?&atyp=i&biw=\"+a+\"&bih=\"+b+\"&ei=\"+google.kEI,h=\"\",k=[],l=void 0!==window.google&&void 0!==window.google.kOPI&&0!==window.google.kOPI?window.google.kOPI:null;null!=l&&k.push([\"opi\",l.toString()]);for(var m=0;m<k.length;m++){if(0===m||0<m)h+=\"&\";h+=k[m][0]+\"=\"+k[m][1]}f.call(e,\"\",\"\",g+h)};}).call(this);})();</script> <script nonce=\"JGPcpVglgSGxOvo9wj-ltQ\">(function(){google.xjs={ck:\\'xjs.hp.pjrtEt8rCj0.L.X.O\\',cs:\\'ACT90oEUB8svzm5B5-_-jK8_pXShBh-PWw\\',csss:\\'ACT90oFCIOF8MKrYuT4FGBj0Gah6FPTssA\\',excm:[],sepcss:false};})();</script>    <script nonce=\"JGPcpVglgSGxOvo9wj-ltQ\">(function(){var u=\\'/xjs/_/js/k\\\\x3dxjs.hp.en.A-SUtpGZwT0.O/am\\\\x3dAAAAAAAAAAACAAAAAAAAAAAAgE4AgAIAFg/d\\\\x3d1/ed\\\\x3d1/rs\\\\x3dACT90oFx-9ul48FLgLNJJag3NjLU9UFl6g/m\\\\x3dsb_he,d,cEt90b,SNUn3,qddgKe,sTsDMc,dtl0hd,eHDfl\\';var amd=0;\\nvar e=this||self,f=function(c){return c};var g;var k=function(c){this.g=c};k.prototype.toString=function(){return this.g+\"\"};var m={};\\nfunction q(){var c=u,n=function(){};google.lx=google.stvsc?n:function(){google.timers&&google.timers.load&&google.tick&&google.tick(\"load\",\"xjsls\");var a=document;var b=\"SCRIPT\";\"application/xhtml+xml\"===a.contentType&&(b=b.toLowerCase());b=a.createElement(b);a=null===c?\"null\":void 0===c?\"undefined\":c;if(void 0===g){var d=null;var l=e.trustedTypes;if(l&&l.createPolicy){try{d=l.createPolicy(\"goog#html\",{createHTML:f,createScript:f,createScriptURL:f})}catch(r){e.console&&e.console.error(r.message)}g=\\nd}else g=d}a=(d=g)?d.createScriptURL(a):a;a=new k(a,m);b.src=a instanceof k&&a.constructor===k?a.g:\"type_error:TrustedResourceUrl\";var h,p;(h=(a=null==(p=(h=(b.ownerDocument&&b.ownerDocument.defaultView||window).document).querySelector)?void 0:p.call(h,\"script[nonce]\"))?a.nonce||a.getAttribute(\"nonce\")||\"\":\"\")&&b.setAttribute(\"nonce\",h);document.body.appendChild(b);google.psa=!0;google.lx=n};google.bx||google.lx()};google.xjsu=u;e._F_jsUrl=u;setTimeout(function(){0<amd?google.caft(function(){return q()},amd):q()},0);})();window._ = window._ || {};window._DumpException = _._DumpException = function(e){throw e;};window._s = window._s || {};_s._DumpException = _._DumpException;window._qs = window._qs || {};_qs._DumpException = _._DumpException;function _F_installCss(c){}\\n(function(){google.jl={blt:\\'none\\',chnk:0,dw:false,dwu:true,emtn:0,end:0,ico:false,ikb:0,ine:false,injs:\\'none\\',injt:0,injth:0,injv2:false,lls:\\'default\\',pdt:0,rep:0,snet:true,strt:0,ubm:false,uwp:true};})();(function(){var pmc=\\'{\\\\x22d\\\\x22:{},\\\\x22sb_he\\\\x22:{\\\\x22agen\\\\x22:true,\\\\x22cgen\\\\x22:true,\\\\x22client\\\\x22:\\\\x22heirloom-hp\\\\x22,\\\\x22dh\\\\x22:true,\\\\x22ds\\\\x22:\\\\x22\\\\x22,\\\\x22fl\\\\x22:true,\\\\x22host\\\\x22:\\\\x22google.com\\\\x22,\\\\x22jsonp\\\\x22:true,\\\\x22msgs\\\\x22:{\\\\x22cibl\\\\x22:\\\\x22Futa Utafutaji\\\\x22,\\\\x22dym\\\\x22:\\\\x22Je, ulimaanisha:\\\\x22,\\\\x22lcky\\\\x22:\\\\x22Najisikia Nina Bahati\\\\x22,\\\\x22lml\\\\x22:\\\\x22Pata maelezo zaidi\\\\x22,\\\\x22psrc\\\\x22:\\\\x22Utafutaji huu uliondolewa kwenye \\\\\\\\u003Ca href\\\\x3d\\\\\\\\\\\\x22/history\\\\\\\\\\\\x22\\\\\\\\u003EHistoria Yako ya Wavuti\\\\\\\\u003C/a\\\\\\\\u003E\\\\x22,\\\\x22psrl\\\\x22:\\\\x22Ondoa\\\\x22,\\\\x22sbit\\\\x22:\\\\x22Tafuta kwa picha\\\\x22,\\\\x22srch\\\\x22:\\\\x22Tafuta na Google\\\\x22},\\\\x22ovr\\\\x22:{},\\\\x22pq\\\\x22:\\\\x22\\\\x22,\\\\x22rfs\\\\x22:[],\\\\x22sbas\\\\x22:\\\\x220 3px 8px 0 rgba(0,0,0,0.2),0 0 0 1px rgba(0,0,0,0.08)\\\\x22,\\\\x22stok\\\\x22:\\\\x221RGQ0AYSxxp3dTNLY2fZRv3m1n4\\\\x22}}\\';google.pmc=JSON.parse(pmc);})();(function(){\\nvar b=function(a){var c=0;return function(){return c<a.length?{done:!1,value:a[c++]}:{done:!0}}},e=this||self;var g,h;a:{for(var k=[\"CLOSURE_FLAGS\"],l=e,n=0;n<k.length;n++)if(l=l[k[n]],null==l){h=null;break a}h=l}var p=h&&h[610401301];g=null!=p?p:!1;var q,r=e.navigator;q=r?r.userAgentData||null:null;function t(a){return g?q?q.brands.some(function(c){return(c=c.brand)&&-1!=c.indexOf(a)}):!1:!1}function u(a){var c;a:{if(c=e.navigator)if(c=c.userAgent)break a;c=\"\"}return-1!=c.indexOf(a)};function v(){return g?!!q&&0<q.brands.length:!1}function w(){return u(\"Safari\")&&!(x()||(v()?0:u(\"Coast\"))||(v()?0:u(\"Opera\"))||(v()?0:u(\"Edge\"))||(v()?t(\"Microsoft Edge\"):u(\"Edg/\"))||(v()?t(\"Opera\"):u(\"OPR\"))||u(\"Firefox\")||u(\"FxiOS\")||u(\"Silk\")||u(\"Android\"))}function x(){return v()?t(\"Chromium\"):(u(\"Chrome\")||u(\"CriOS\"))&&!(v()?0:u(\"Edge\"))||u(\"Silk\")}function y(){return u(\"Android\")&&!(x()||u(\"Firefox\")||u(\"FxiOS\")||(v()?0:u(\"Opera\"))||u(\"Silk\"))};var z=v()?!1:u(\"Trident\")||u(\"MSIE\");y();x();w();var A=!z&&!w(),D=function(a){if(/-[a-z]/.test(\"ved\"))return null;if(A&&a.dataset){if(y()&&!(\"ved\"in a.dataset))return null;a=a.dataset.ved;return void 0===a?null:a}return a.getAttribute(\"data-\"+\"ved\".replace(/([A-Z])/g,\"-$1\").toLowerCase())};var E=[],F=null;function G(a){a=a.target;var c=performance.now(),f=[],H=f.concat,d=E;if(!(d instanceof Array)){var m=\"undefined\"!=typeof Symbol&&Symbol.iterator&&d[Symbol.iterator];if(m)d=m.call(d);else if(\"number\"==typeof d.length)d={next:b(d)};else throw Error(\"a`\"+String(d));for(var B=[];!(m=d.next()).done;)B.push(m.value);d=B}E=H.call(f,d,[c]);if(a&&a instanceof HTMLElement)if(a===F){if(c=4<=E.length)c=5>(E[E.length-1]-E[E.length-4])/1E3;if(c){c=google.getEI(a);a.hasAttribute(\"data-ved\")?f=a?D(a)||\"\":\"\":f=(f=\\na.closest(\"[data-ved]\"))?D(f)||\"\":\"\";f=f||\"\";if(a.hasAttribute(\"jsname\"))a=a.getAttribute(\"jsname\");else{var C;a=null==(C=a.closest(\"[jsname]\"))?void 0:C.getAttribute(\"jsname\")}google.log(\"rcm\",\"&ei=\"+c+\"&ved=\"+f+\"&jsname=\"+(a||\"\"))}}else F=a,E=[c]}window.document.addEventListener(\"DOMContentLoaded\",function(){document.body.addEventListener(\"click\",G)});}).call(this);</script></body></html>'\n"
     ]
    }
   ],
   "source": [
    "print(result.headers) #These are some of the HTTP headers of a response made from making a web request\n",
    "print(result.content) #Will print the source code of our page\n",
    "\n",
    "#Storing the page content of the website accessed into a variable\n",
    "src = result.content"
   ]
  },
  {
   "attachments": {},
   "cell_type": "markdown",
   "metadata": {},
   "source": [
    "This brings us to our next question:\n",
    "## What is Parsing?\n",
    "Think of parsing like reading and interpreting a book. When you read a book, you look at the words, sentences, and paragraphs to understand the meaning and extract relevant information. Similarly, when BeautifulSoup parses HTML or XML code, it reads the code and organizes it in a way that allows you to easily find and work with specific parts of the code, such as tags or text content."
   ]
  },
  {
   "cell_type": "code",
   "execution_count": 12,
   "metadata": {},
   "outputs": [],
   "source": [
    "#initializing a beautifulsoup object, here as 'soup'\n",
    "soup = BeautifulSoup(src)\n"
   ]
  },
  {
   "attachments": {},
   "cell_type": "markdown",
   "metadata": {},
   "source": [
    "Once the BeautifulSoup object is created, you can use its methods and properties to navigate and extract data from the parsed document.\n"
   ]
  },
  {
   "attachments": {},
   "cell_type": "markdown",
   "metadata": {},
   "source": [
    "## soup.find_all() and soup.body.findAll()\n",
    "\n",
    "They are used to find occurences of a particular HTML or XML element i.e. tags for example.\n",
    "\n",
    "The difference between the two are:\n",
    "- <span style = \"color:red\">soup.find_all()</span> searches the entire document, including the `<head>`, `<body>`, and any other elements outside the `<body>`. It is useful when you want to find elements throughout the entire document.\n",
    "\n",
    "- <span style = \"color:red\">soup.body.findAll()</span> focuses only on the elements within the `<body>` element. It is handy when you specifically want to extract elements from the main content area of the web page."
   ]
  },
  {
   "cell_type": "code",
   "execution_count": 13,
   "metadata": {},
   "outputs": [
    {
     "data": {
      "text/plain": [
       "[<a class=\"gb1\" href=\"https://www.google.com/imghp?hl=sw&amp;tab=wi\">Picha</a>,\n",
       " <a class=\"gb1\" href=\"https://maps.google.co.ke/maps?hl=sw&amp;tab=wl\">Ramani</a>,\n",
       " <a class=\"gb1\" href=\"https://play.google.com/?hl=sw&amp;tab=w8\">Play</a>,\n",
       " <a class=\"gb1\" href=\"https://www.youtube.com/?tab=w1\">YouTube</a>,\n",
       " <a class=\"gb1\" href=\"https://news.google.com/?tab=wn\">Habari</a>,\n",
       " <a class=\"gb1\" href=\"https://mail.google.com/mail/?tab=wm\">Gmail</a>,\n",
       " <a class=\"gb1\" href=\"https://drive.google.com/?tab=wo\">Hifadhi</a>,\n",
       " <a class=\"gb1\" href=\"https://www.google.co.ke/intl/en/about/products?tab=wh\" style=\"text-decoration:none\"><u>Mengineyo</u> »</a>,\n",
       " <a class=\"gb4\" href=\"http://www.google.co.ke/history/optout?hl=sw\">Historia kwenye Wavuti</a>,\n",
       " <a class=\"gb4\" href=\"/preferences?hl=sw\">Mipangilio</a>,\n",
       " <a class=\"gb4\" href=\"https://accounts.google.com/ServiceLogin?hl=sw&amp;passive=true&amp;continue=https://www.google.com/&amp;ec=GAZAAQ\" id=\"gb_70\" target=\"_top\">Ingia</a>,\n",
       " <a href=\"/advanced_search?hl=sw-KE&amp;authuser=0\">Utafutaji wa kina</a>,\n",
       " <a href=\"https://www.google.com/setprefs?sig=0_mXiQCwjoJMt2zh9ldMtIKC-zj1M%3D&amp;hl=en&amp;source=homepage&amp;sa=X&amp;ved=0ahUKEwiN_OGN7OP_AhX0q1YBHQbkAxQQ2ZgBCAU\">English</a>,\n",
       " <a href=\"/intl/sw/ads/\">Matangazo </a>,\n",
       " <a href=\"/intl/sw/about.html\">Kila Kitu Kuhusu Google</a>,\n",
       " <a href=\"https://www.google.com/setprefs?sig=0_mXiQCwjoJMt2zh9ldMtIKC-zj1M%3D&amp;hl=en\" id=\"fehl\">Google.com in English</a>]"
      ]
     },
     "execution_count": 13,
     "metadata": {},
     "output_type": "execute_result"
    }
   ],
   "source": [
    "\n",
    "#Looking for all links aka <a> tags on the page\n",
    "links = soup.find_all('a')\n",
    "links"
   ]
  },
  {
   "attachments": {},
   "cell_type": "markdown",
   "metadata": {},
   "source": [
    "We want to look for a particular text within the links.\n",
    "\n",
    "So we need to print all the text within the links."
   ]
  },
  {
   "cell_type": "code",
   "execution_count": 14,
   "metadata": {},
   "outputs": [
    {
     "name": "stdout",
     "output_type": "stream",
     "text": [
      "Picha\n",
      "Ramani\n",
      "Play\n",
      "YouTube\n",
      "Habari\n",
      "Gmail\n",
      "Hifadhi\n",
      "Mengineyo »\n",
      "Historia kwenye Wavuti\n",
      "Mipangilio\n",
      "Ingia\n",
      "Utafutaji wa kina\n",
      "English\n",
      "Matangazo \n",
      "Kila Kitu Kuhusu Google\n",
      "Google.com in English\n"
     ]
    }
   ],
   "source": [
    "for link in links:\n",
    "    print(link.text)"
   ]
  },
  {
   "attachments": {},
   "cell_type": "markdown",
   "metadata": {},
   "source": [
    "I want to look for the text \"about\": "
   ]
  },
  {
   "cell_type": "code",
   "execution_count": 15,
   "metadata": {},
   "outputs": [
    {
     "name": "stdout",
     "output_type": "stream",
     "text": [
      "<a href=\"/intl/sw/about.html\">Kila Kitu Kuhusu Google</a>\n",
      "/intl/sw/about.html\n"
     ]
    }
   ],
   "source": [
    "for link in links:\n",
    "    if \"Kila Kitu Kuhusu Google\" in link.text:\n",
    "        print(link)\n",
    "        print(link.attrs['href']) #Give us the content of the href inside the link tag\n",
    "        "
   ]
  },
  {
   "attachments": {},
   "cell_type": "markdown",
   "metadata": {},
   "source": [
    "##### <span style = \"color: red\">IMPORTANT!</span> Respect the website's guidelines and terms of service to help maintain ethical and legal practices when scraping data from websites to ensure that you are not violating any legal or ethical boundaries.\n",
    "\n",
    "### **What to do?**\n",
    "\n",
    "A <span style = \"color: blue\">robots.txt </span> file contains directives that instruct web crawlers on what they are allowed or not allowed to access on a website. \n",
    "\n",
    "\n",
    "Example: \n",
    "Type the website url and then add /robots.txt i.e.\n",
    "\n",
    "**robots_url = website_url + '/robots.txt'**\n",
    "\n",
    "And going out on a limb here to show you how &#x1F605; &#x1F9D7;&#x200D;&#x2642;&#xFE0F;&#x1F512;\n",
    "\n",
    "\n",
    "https://fbijobs.gov/robots.txt = https://fbijobs.gov + /robots.txt\n",
    "\n",
    "You will see a file that looks something like this:\n",
    "\n",
    "<img src = \"robotstxt.png\" width= 900 height = 400>\n",
    "\n",
    "\n",
    "The directives below for example, specify the directories, files and paths that the crawler should not access\n",
    "\n",
    "\n",
    "<img src = \"FBI3.png\" width= 800 height = 400>\n",
    "\n",
    "\n",
    "\n",
    "\n",
    "\n",
    "\n",
    "\n",
    "\n"
   ]
  },
  {
   "attachments": {},
   "cell_type": "markdown",
   "metadata": {},
   "source": [
    "## Note <span style = \"color: gold\">(And a fun fact!)</span>\n",
    "We can create our own databases from scratch using Web Scrapping.\n",
    "\n",
    "This can help us a lot as we can get to do our own customizations e.g. data cleaning and even feature engineering to fit our models."
   ]
  }
 ],
 "metadata": {
  "kernelspec": {
   "display_name": "myenv",
   "language": "python",
   "name": "python3"
  },
  "language_info": {
   "codemirror_mode": {
    "name": "ipython",
    "version": 3
   },
   "file_extension": ".py",
   "mimetype": "text/x-python",
   "name": "python",
   "nbconvert_exporter": "python",
   "pygments_lexer": "ipython3",
   "version": "3.9.16"
  },
  "orig_nbformat": 4
 },
 "nbformat": 4,
 "nbformat_minor": 2
}
