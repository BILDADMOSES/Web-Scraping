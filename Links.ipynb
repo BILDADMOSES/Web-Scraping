{
 "cells": [
  {
   "cell_type": "code",
   "execution_count": 2,
   "metadata": {},
   "outputs": [],
   "source": [
    "import requests\n",
    "from bs4 import BeautifulSoup"
   ]
  },
  {
   "cell_type": "code",
   "execution_count": 3,
   "metadata": {},
   "outputs": [
    {
     "data": {
      "text/plain": [
       "200"
      ]
     },
     "execution_count": 3,
     "metadata": {},
     "output_type": "execute_result"
    }
   ],
   "source": [
    "results =  requests.get(\"https://www.whitehouse.gov/briefing-room/\")\n",
    "results.status_code\n"
   ]
  },
  {
   "cell_type": "code",
   "execution_count": 4,
   "metadata": {},
   "outputs": [],
   "source": [
    "src = results.content\n",
    "soup = BeautifulSoup(src)"
   ]
  },
  {
   "cell_type": "code",
   "execution_count": 5,
   "metadata": {},
   "outputs": [
    {
     "name": "stdout",
     "output_type": "stream",
     "text": [
      "['https://www.whitehouse.gov/briefing-room/press-briefings/2023/06/26/press-briefing-by-press-secretary-karine-jean-pierre-and-nsc-coordinator-for-strategic-communications-john-kirby-17/']\n",
      "['https://www.whitehouse.gov/briefing-room/press-briefings/2023/06/26/press-briefing-by-press-secretary-karine-jean-pierre-and-nsc-coordinator-for-strategic-communications-john-kirby-17/', 'https://www.whitehouse.gov/briefing-room/statements-releases/2023/06/26/statement-from-president-joe-biden-on-jim-crown/']\n",
      "['https://www.whitehouse.gov/briefing-room/press-briefings/2023/06/26/press-briefing-by-press-secretary-karine-jean-pierre-and-nsc-coordinator-for-strategic-communications-john-kirby-17/', 'https://www.whitehouse.gov/briefing-room/statements-releases/2023/06/26/statement-from-president-joe-biden-on-jim-crown/', 'https://www.whitehouse.gov/briefing-room/statements-releases/2023/06/26/fact-sheet-biden-harris-administration-steadfast-in-support-of-puerto-ricos-renewal/']\n",
      "['https://www.whitehouse.gov/briefing-room/press-briefings/2023/06/26/press-briefing-by-press-secretary-karine-jean-pierre-and-nsc-coordinator-for-strategic-communications-john-kirby-17/', 'https://www.whitehouse.gov/briefing-room/statements-releases/2023/06/26/statement-from-president-joe-biden-on-jim-crown/', 'https://www.whitehouse.gov/briefing-room/statements-releases/2023/06/26/fact-sheet-biden-harris-administration-steadfast-in-support-of-puerto-ricos-renewal/', 'https://www.whitehouse.gov/briefing-room/speeches-remarks/2023/06/26/remarks-by-president-biden-on-broadband-investments/']\n",
      "['https://www.whitehouse.gov/briefing-room/press-briefings/2023/06/26/press-briefing-by-press-secretary-karine-jean-pierre-and-nsc-coordinator-for-strategic-communications-john-kirby-17/', 'https://www.whitehouse.gov/briefing-room/statements-releases/2023/06/26/statement-from-president-joe-biden-on-jim-crown/', 'https://www.whitehouse.gov/briefing-room/statements-releases/2023/06/26/fact-sheet-biden-harris-administration-steadfast-in-support-of-puerto-ricos-renewal/', 'https://www.whitehouse.gov/briefing-room/speeches-remarks/2023/06/26/remarks-by-president-biden-on-broadband-investments/', 'https://www.whitehouse.gov/briefing-room/speeches-remarks/2023/06/26/remarks-by-vice-president-harris-on-broadband-investments/']\n",
      "['https://www.whitehouse.gov/briefing-room/press-briefings/2023/06/26/press-briefing-by-press-secretary-karine-jean-pierre-and-nsc-coordinator-for-strategic-communications-john-kirby-17/', 'https://www.whitehouse.gov/briefing-room/statements-releases/2023/06/26/statement-from-president-joe-biden-on-jim-crown/', 'https://www.whitehouse.gov/briefing-room/statements-releases/2023/06/26/fact-sheet-biden-harris-administration-steadfast-in-support-of-puerto-ricos-renewal/', 'https://www.whitehouse.gov/briefing-room/speeches-remarks/2023/06/26/remarks-by-president-biden-on-broadband-investments/', 'https://www.whitehouse.gov/briefing-room/speeches-remarks/2023/06/26/remarks-by-vice-president-harris-on-broadband-investments/', 'https://www.whitehouse.gov/briefing-room/statements-releases/2023/06/26/statement-from-president-joe-biden-on-the-anniversary-of-landmark-marriage-equality-rulings/']\n",
      "['https://www.whitehouse.gov/briefing-room/press-briefings/2023/06/26/press-briefing-by-press-secretary-karine-jean-pierre-and-nsc-coordinator-for-strategic-communications-john-kirby-17/', 'https://www.whitehouse.gov/briefing-room/statements-releases/2023/06/26/statement-from-president-joe-biden-on-jim-crown/', 'https://www.whitehouse.gov/briefing-room/statements-releases/2023/06/26/fact-sheet-biden-harris-administration-steadfast-in-support-of-puerto-ricos-renewal/', 'https://www.whitehouse.gov/briefing-room/speeches-remarks/2023/06/26/remarks-by-president-biden-on-broadband-investments/', 'https://www.whitehouse.gov/briefing-room/speeches-remarks/2023/06/26/remarks-by-vice-president-harris-on-broadband-investments/', 'https://www.whitehouse.gov/briefing-room/statements-releases/2023/06/26/statement-from-president-joe-biden-on-the-anniversary-of-landmark-marriage-equality-rulings/', 'https://www.whitehouse.gov/briefing-room/statements-releases/2023/06/26/fact-sheet-biden-harris-administration-announces-over-40-billion-to-connect-everyone-in-america-to-affordable-reliable-high-speed-internet/']\n",
      "['https://www.whitehouse.gov/briefing-room/press-briefings/2023/06/26/press-briefing-by-press-secretary-karine-jean-pierre-and-nsc-coordinator-for-strategic-communications-john-kirby-17/', 'https://www.whitehouse.gov/briefing-room/statements-releases/2023/06/26/statement-from-president-joe-biden-on-jim-crown/', 'https://www.whitehouse.gov/briefing-room/statements-releases/2023/06/26/fact-sheet-biden-harris-administration-steadfast-in-support-of-puerto-ricos-renewal/', 'https://www.whitehouse.gov/briefing-room/speeches-remarks/2023/06/26/remarks-by-president-biden-on-broadband-investments/', 'https://www.whitehouse.gov/briefing-room/speeches-remarks/2023/06/26/remarks-by-vice-president-harris-on-broadband-investments/', 'https://www.whitehouse.gov/briefing-room/statements-releases/2023/06/26/statement-from-president-joe-biden-on-the-anniversary-of-landmark-marriage-equality-rulings/', 'https://www.whitehouse.gov/briefing-room/statements-releases/2023/06/26/fact-sheet-biden-harris-administration-announces-over-40-billion-to-connect-everyone-in-america-to-affordable-reliable-high-speed-internet/', 'https://www.whitehouse.gov/briefing-room/statements-releases/2023/06/26/fact-sheet-biden-harris-administration-announces-historic-support-for-tribal-small-businesses-as-part-of-president-bidens-investing-in-america-agenda/']\n",
      "['https://www.whitehouse.gov/briefing-room/press-briefings/2023/06/26/press-briefing-by-press-secretary-karine-jean-pierre-and-nsc-coordinator-for-strategic-communications-john-kirby-17/', 'https://www.whitehouse.gov/briefing-room/statements-releases/2023/06/26/statement-from-president-joe-biden-on-jim-crown/', 'https://www.whitehouse.gov/briefing-room/statements-releases/2023/06/26/fact-sheet-biden-harris-administration-steadfast-in-support-of-puerto-ricos-renewal/', 'https://www.whitehouse.gov/briefing-room/speeches-remarks/2023/06/26/remarks-by-president-biden-on-broadband-investments/', 'https://www.whitehouse.gov/briefing-room/speeches-remarks/2023/06/26/remarks-by-vice-president-harris-on-broadband-investments/', 'https://www.whitehouse.gov/briefing-room/statements-releases/2023/06/26/statement-from-president-joe-biden-on-the-anniversary-of-landmark-marriage-equality-rulings/', 'https://www.whitehouse.gov/briefing-room/statements-releases/2023/06/26/fact-sheet-biden-harris-administration-announces-over-40-billion-to-connect-everyone-in-america-to-affordable-reliable-high-speed-internet/', 'https://www.whitehouse.gov/briefing-room/statements-releases/2023/06/26/fact-sheet-biden-harris-administration-announces-historic-support-for-tribal-small-businesses-as-part-of-president-bidens-investing-in-america-agenda/', 'https://www.whitehouse.gov/briefing-room/statements-releases/2023/06/26/statement-from-president-biden-on-international-day-in-support-of-victims-of-torture/']\n",
      "['https://www.whitehouse.gov/briefing-room/press-briefings/2023/06/26/press-briefing-by-press-secretary-karine-jean-pierre-and-nsc-coordinator-for-strategic-communications-john-kirby-17/', 'https://www.whitehouse.gov/briefing-room/statements-releases/2023/06/26/statement-from-president-joe-biden-on-jim-crown/', 'https://www.whitehouse.gov/briefing-room/statements-releases/2023/06/26/fact-sheet-biden-harris-administration-steadfast-in-support-of-puerto-ricos-renewal/', 'https://www.whitehouse.gov/briefing-room/speeches-remarks/2023/06/26/remarks-by-president-biden-on-broadband-investments/', 'https://www.whitehouse.gov/briefing-room/speeches-remarks/2023/06/26/remarks-by-vice-president-harris-on-broadband-investments/', 'https://www.whitehouse.gov/briefing-room/statements-releases/2023/06/26/statement-from-president-joe-biden-on-the-anniversary-of-landmark-marriage-equality-rulings/', 'https://www.whitehouse.gov/briefing-room/statements-releases/2023/06/26/fact-sheet-biden-harris-administration-announces-over-40-billion-to-connect-everyone-in-america-to-affordable-reliable-high-speed-internet/', 'https://www.whitehouse.gov/briefing-room/statements-releases/2023/06/26/fact-sheet-biden-harris-administration-announces-historic-support-for-tribal-small-businesses-as-part-of-president-bidens-investing-in-america-agenda/', 'https://www.whitehouse.gov/briefing-room/statements-releases/2023/06/26/statement-from-president-biden-on-international-day-in-support-of-victims-of-torture/', 'https://www.whitehouse.gov/briefing-room/statements-releases/2023/06/25/readout-of-president-joe-bidens-call-with-prime-minister-justin-trudeau-of-canada/']\n"
     ]
    }
   ],
   "source": [
    "urls = []\n",
    "\n",
    "for h2_tag in soup.find_all('h2'):\n",
    "    if h2_tag.find('a') != None:\n",
    "        a_tag = h2_tag.find('a')\n",
    "        urls.append(a_tag.attrs['href'])\n",
    "        print(urls)"
   ]
  }
 ],
 "metadata": {
  "kernelspec": {
   "display_name": "myenv",
   "language": "python",
   "name": "python3"
  },
  "language_info": {
   "codemirror_mode": {
    "name": "ipython",
    "version": 3
   },
   "file_extension": ".py",
   "mimetype": "text/x-python",
   "name": "python",
   "nbconvert_exporter": "python",
   "pygments_lexer": "ipython3",
   "version": "3.9.16"
  },
  "orig_nbformat": 4
 },
 "nbformat": 4,
 "nbformat_minor": 2
}
